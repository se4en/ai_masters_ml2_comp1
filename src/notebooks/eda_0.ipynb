{
 "cells": [
  {
   "cell_type": "code",
   "execution_count": 6,
   "metadata": {},
   "outputs": [],
   "source": [
    "import typing as t\n",
    "\n",
    "import pandas as pd\n",
    "import matplotlib.pyplot as plt"
   ]
  },
  {
   "cell_type": "code",
   "execution_count": 7,
   "metadata": {},
   "outputs": [],
   "source": [
    "TRAIN_PATH = \"../../data/train.csv\"\n",
    "TEST_PATH = \"../../data/test.csv\""
   ]
  },
  {
   "cell_type": "code",
   "execution_count": 8,
   "metadata": {},
   "outputs": [],
   "source": [
    "train_df = pd.read_csv(TRAIN_PATH)\n",
    "test_df = pd.read_csv(TEST_PATH)"
   ]
  },
  {
   "cell_type": "code",
   "execution_count": 9,
   "metadata": {},
   "outputs": [
    {
     "name": "stdout",
     "output_type": "stream",
     "text": [
      "<class 'pandas.core.frame.DataFrame'>\n",
      "RangeIndex: 27232 entries, 0 to 27231\n",
      "Data columns (total 38 columns):\n",
      " #   Column                             Non-Null Count  Dtype  \n",
      "---  ------                             --------------  -----  \n",
      " 0   district_area                      27232 non-null  float64\n",
      " 1   road_distance_1                    27232 non-null  float64\n",
      " 2   road_distance_2                    27232 non-null  float64\n",
      " 3   year_of_construction               14314 non-null  float64\n",
      " 4   bulvar_ring_km                     27232 non-null  float64\n",
      " 5   bus_station_distance               27232 non-null  float64\n",
      " 6   cafe_count                         27232 non-null  int64  \n",
      " 7   fitness_center_distance            27232 non-null  float64\n",
      " 8   floor                              27065 non-null  float64\n",
      " 9   district_population                27232 non-null  int64  \n",
      " 10  total_area                         27232 non-null  int64  \n",
      " 11  green_part                         27232 non-null  float64\n",
      " 12  green_zone_distance                27232 non-null  float64\n",
      " 13  healthcare_centers_count           27232 non-null  int64  \n",
      " 14  id                                 27232 non-null  int64  \n",
      " 15  kitchen_area                       17660 non-null  float64\n",
      " 16  kremlin_distance                   27232 non-null  float64\n",
      " 17  leisure_count                      27232 non-null  int64  \n",
      " 18  living_area                        21644 non-null  float64\n",
      " 19  market_count                       27232 non-null  int64  \n",
      " 20  wall_material                      17660 non-null  float64\n",
      " 21  floors_num                         17660 non-null  float64\n",
      " 22  metro_minutes                      27216 non-null  float64\n",
      " 23  mkad_distance                      27232 non-null  float64\n",
      " 24  rooms_num                          17660 non-null  float64\n",
      " 25  office_count                       27232 non-null  int64  \n",
      " 26  park_distance                      27232 non-null  float64\n",
      " 27  result_price                       27232 non-null  int64  \n",
      " 28  product_type                       27232 non-null  object \n",
      " 29  public_transport_station_distance  27232 non-null  float64\n",
      " 30  sadovoe_km                         27232 non-null  float64\n",
      " 31  base_school_distance               27232 non-null  float64\n",
      " 32  sport_count                        27232 non-null  int64  \n",
      " 33  state                              14135 non-null  float64\n",
      " 34  district_name                      27232 non-null  object \n",
      " 35  timestamp                          27232 non-null  object \n",
      " 36  malls_count                        27232 non-null  int64  \n",
      " 37  railway_station_distance           27232 non-null  float64\n",
      "dtypes: float64(24), int64(11), object(3)\n",
      "memory usage: 7.9+ MB\n"
     ]
    }
   ],
   "source": [
    "train_df.info()"
   ]
  },
  {
   "cell_type": "code",
   "execution_count": 5,
   "metadata": {},
   "outputs": [
    {
     "data": {
      "text/plain": [
       "dtype('O')"
      ]
     },
     "execution_count": 5,
     "metadata": {},
     "output_type": "execute_result"
    }
   ],
   "source": [
    "train_df[\"timestamp\"].dtype"
   ]
  },
  {
   "cell_type": "code",
   "execution_count": null,
   "metadata": {},
   "outputs": [],
   "source": []
  }
 ],
 "metadata": {
  "kernelspec": {
   "display_name": "venv",
   "language": "python",
   "name": "python3"
  },
  "language_info": {
   "codemirror_mode": {
    "name": "ipython",
    "version": 3
   },
   "file_extension": ".py",
   "mimetype": "text/x-python",
   "name": "python",
   "nbconvert_exporter": "python",
   "pygments_lexer": "ipython3",
   "version": "3.9.6"
  },
  "orig_nbformat": 4,
  "vscode": {
   "interpreter": {
    "hash": "e4ec0b85e5b6de8c1c762dd2ba673f5f4cdc6a86b91837c0aba7b563ef47f581"
   }
  }
 },
 "nbformat": 4,
 "nbformat_minor": 2
}
